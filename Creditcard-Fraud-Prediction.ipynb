{
 "cells": [
  {
   "cell_type": "markdown",
   "id": "812046d0",
   "metadata": {},
   "source": [
    "### 1.Business problem understanding"
   ]
  },
  {
   "cell_type": "code",
   "execution_count": 1,
   "id": "b3ab2c28",
   "metadata": {},
   "outputs": [],
   "source": [
    "import pandas as pd\n",
    "import numpy as np\n",
    "import matplotlib.pyplot as plt\n",
    "import seaborn as sns\n",
    "import warnings\n",
    "\n",
    "warnings.simplefilter(\"ignore\")"
   ]
  },
  {
   "cell_type": "code",
   "execution_count": 2,
   "id": "89e4d395",
   "metadata": {},
   "outputs": [
    {
     "data": {
      "text/html": [
       "<div>\n",
       "<style scoped>\n",
       "    .dataframe tbody tr th:only-of-type {\n",
       "        vertical-align: middle;\n",
       "    }\n",
       "\n",
       "    .dataframe tbody tr th {\n",
       "        vertical-align: top;\n",
       "    }\n",
       "\n",
       "    .dataframe thead th {\n",
       "        text-align: right;\n",
       "    }\n",
       "</style>\n",
       "<table border=\"1\" class=\"dataframe\">\n",
       "  <thead>\n",
       "    <tr style=\"text-align: right;\">\n",
       "      <th></th>\n",
       "      <th>Time</th>\n",
       "      <th>V1</th>\n",
       "      <th>V2</th>\n",
       "      <th>V3</th>\n",
       "      <th>V4</th>\n",
       "      <th>V5</th>\n",
       "      <th>V6</th>\n",
       "      <th>V7</th>\n",
       "      <th>V8</th>\n",
       "      <th>V9</th>\n",
       "      <th>...</th>\n",
       "      <th>V21</th>\n",
       "      <th>V22</th>\n",
       "      <th>V23</th>\n",
       "      <th>V24</th>\n",
       "      <th>V25</th>\n",
       "      <th>V26</th>\n",
       "      <th>V27</th>\n",
       "      <th>V28</th>\n",
       "      <th>Amount</th>\n",
       "      <th>Class</th>\n",
       "    </tr>\n",
       "  </thead>\n",
       "  <tbody>\n",
       "    <tr>\n",
       "      <th>0</th>\n",
       "      <td>0.0</td>\n",
       "      <td>-1.359807</td>\n",
       "      <td>-0.072781</td>\n",
       "      <td>2.536347</td>\n",
       "      <td>1.378155</td>\n",
       "      <td>-0.338321</td>\n",
       "      <td>0.462388</td>\n",
       "      <td>0.239599</td>\n",
       "      <td>0.098698</td>\n",
       "      <td>0.363787</td>\n",
       "      <td>...</td>\n",
       "      <td>-0.018307</td>\n",
       "      <td>0.277838</td>\n",
       "      <td>-0.110474</td>\n",
       "      <td>0.066928</td>\n",
       "      <td>0.128539</td>\n",
       "      <td>-0.189115</td>\n",
       "      <td>0.133558</td>\n",
       "      <td>-0.021053</td>\n",
       "      <td>149.62</td>\n",
       "      <td>0</td>\n",
       "    </tr>\n",
       "    <tr>\n",
       "      <th>1</th>\n",
       "      <td>0.0</td>\n",
       "      <td>1.191857</td>\n",
       "      <td>0.266151</td>\n",
       "      <td>0.166480</td>\n",
       "      <td>0.448154</td>\n",
       "      <td>0.060018</td>\n",
       "      <td>-0.082361</td>\n",
       "      <td>-0.078803</td>\n",
       "      <td>0.085102</td>\n",
       "      <td>-0.255425</td>\n",
       "      <td>...</td>\n",
       "      <td>-0.225775</td>\n",
       "      <td>-0.638672</td>\n",
       "      <td>0.101288</td>\n",
       "      <td>-0.339846</td>\n",
       "      <td>0.167170</td>\n",
       "      <td>0.125895</td>\n",
       "      <td>-0.008983</td>\n",
       "      <td>0.014724</td>\n",
       "      <td>2.69</td>\n",
       "      <td>0</td>\n",
       "    </tr>\n",
       "    <tr>\n",
       "      <th>2</th>\n",
       "      <td>1.0</td>\n",
       "      <td>-1.358354</td>\n",
       "      <td>-1.340163</td>\n",
       "      <td>1.773209</td>\n",
       "      <td>0.379780</td>\n",
       "      <td>-0.503198</td>\n",
       "      <td>1.800499</td>\n",
       "      <td>0.791461</td>\n",
       "      <td>0.247676</td>\n",
       "      <td>-1.514654</td>\n",
       "      <td>...</td>\n",
       "      <td>0.247998</td>\n",
       "      <td>0.771679</td>\n",
       "      <td>0.909412</td>\n",
       "      <td>-0.689281</td>\n",
       "      <td>-0.327642</td>\n",
       "      <td>-0.139097</td>\n",
       "      <td>-0.055353</td>\n",
       "      <td>-0.059752</td>\n",
       "      <td>378.66</td>\n",
       "      <td>0</td>\n",
       "    </tr>\n",
       "    <tr>\n",
       "      <th>3</th>\n",
       "      <td>1.0</td>\n",
       "      <td>-0.966272</td>\n",
       "      <td>-0.185226</td>\n",
       "      <td>1.792993</td>\n",
       "      <td>-0.863291</td>\n",
       "      <td>-0.010309</td>\n",
       "      <td>1.247203</td>\n",
       "      <td>0.237609</td>\n",
       "      <td>0.377436</td>\n",
       "      <td>-1.387024</td>\n",
       "      <td>...</td>\n",
       "      <td>-0.108300</td>\n",
       "      <td>0.005274</td>\n",
       "      <td>-0.190321</td>\n",
       "      <td>-1.175575</td>\n",
       "      <td>0.647376</td>\n",
       "      <td>-0.221929</td>\n",
       "      <td>0.062723</td>\n",
       "      <td>0.061458</td>\n",
       "      <td>123.50</td>\n",
       "      <td>0</td>\n",
       "    </tr>\n",
       "    <tr>\n",
       "      <th>4</th>\n",
       "      <td>2.0</td>\n",
       "      <td>-1.158233</td>\n",
       "      <td>0.877737</td>\n",
       "      <td>1.548718</td>\n",
       "      <td>0.403034</td>\n",
       "      <td>-0.407193</td>\n",
       "      <td>0.095921</td>\n",
       "      <td>0.592941</td>\n",
       "      <td>-0.270533</td>\n",
       "      <td>0.817739</td>\n",
       "      <td>...</td>\n",
       "      <td>-0.009431</td>\n",
       "      <td>0.798278</td>\n",
       "      <td>-0.137458</td>\n",
       "      <td>0.141267</td>\n",
       "      <td>-0.206010</td>\n",
       "      <td>0.502292</td>\n",
       "      <td>0.219422</td>\n",
       "      <td>0.215153</td>\n",
       "      <td>69.99</td>\n",
       "      <td>0</td>\n",
       "    </tr>\n",
       "  </tbody>\n",
       "</table>\n",
       "<p>5 rows × 31 columns</p>\n",
       "</div>"
      ],
      "text/plain": [
       "   Time        V1        V2        V3        V4        V5        V6        V7  \\\n",
       "0   0.0 -1.359807 -0.072781  2.536347  1.378155 -0.338321  0.462388  0.239599   \n",
       "1   0.0  1.191857  0.266151  0.166480  0.448154  0.060018 -0.082361 -0.078803   \n",
       "2   1.0 -1.358354 -1.340163  1.773209  0.379780 -0.503198  1.800499  0.791461   \n",
       "3   1.0 -0.966272 -0.185226  1.792993 -0.863291 -0.010309  1.247203  0.237609   \n",
       "4   2.0 -1.158233  0.877737  1.548718  0.403034 -0.407193  0.095921  0.592941   \n",
       "\n",
       "         V8        V9  ...       V21       V22       V23       V24       V25  \\\n",
       "0  0.098698  0.363787  ... -0.018307  0.277838 -0.110474  0.066928  0.128539   \n",
       "1  0.085102 -0.255425  ... -0.225775 -0.638672  0.101288 -0.339846  0.167170   \n",
       "2  0.247676 -1.514654  ...  0.247998  0.771679  0.909412 -0.689281 -0.327642   \n",
       "3  0.377436 -1.387024  ... -0.108300  0.005274 -0.190321 -1.175575  0.647376   \n",
       "4 -0.270533  0.817739  ... -0.009431  0.798278 -0.137458  0.141267 -0.206010   \n",
       "\n",
       "        V26       V27       V28  Amount  Class  \n",
       "0 -0.189115  0.133558 -0.021053  149.62      0  \n",
       "1  0.125895 -0.008983  0.014724    2.69      0  \n",
       "2 -0.139097 -0.055353 -0.059752  378.66      0  \n",
       "3 -0.221929  0.062723  0.061458  123.50      0  \n",
       "4  0.502292  0.219422  0.215153   69.99      0  \n",
       "\n",
       "[5 rows x 31 columns]"
      ]
     },
     "execution_count": 2,
     "metadata": {},
     "output_type": "execute_result"
    }
   ],
   "source": [
    "df = pd.read_csv(\"creditcard.csv\")\n",
    "df.head()"
   ]
  },
  {
   "cell_type": "markdown",
   "id": "3bb851ca",
   "metadata": {},
   "source": [
    "#### Dataset Understanding"
   ]
  },
  {
   "cell_type": "code",
   "execution_count": 3,
   "id": "41542ef5",
   "metadata": {},
   "outputs": [
    {
     "data": {
      "text/html": [
       "<div>\n",
       "<style scoped>\n",
       "    .dataframe tbody tr th:only-of-type {\n",
       "        vertical-align: middle;\n",
       "    }\n",
       "\n",
       "    .dataframe tbody tr th {\n",
       "        vertical-align: top;\n",
       "    }\n",
       "\n",
       "    .dataframe thead th {\n",
       "        text-align: right;\n",
       "    }\n",
       "</style>\n",
       "<table border=\"1\" class=\"dataframe\">\n",
       "  <thead>\n",
       "    <tr style=\"text-align: right;\">\n",
       "      <th></th>\n",
       "      <th>Time</th>\n",
       "      <th>V1</th>\n",
       "      <th>V2</th>\n",
       "      <th>V3</th>\n",
       "      <th>V4</th>\n",
       "      <th>V5</th>\n",
       "      <th>V6</th>\n",
       "      <th>V7</th>\n",
       "      <th>V8</th>\n",
       "      <th>V9</th>\n",
       "      <th>...</th>\n",
       "      <th>V21</th>\n",
       "      <th>V22</th>\n",
       "      <th>V23</th>\n",
       "      <th>V24</th>\n",
       "      <th>V25</th>\n",
       "      <th>V26</th>\n",
       "      <th>V27</th>\n",
       "      <th>V28</th>\n",
       "      <th>Amount</th>\n",
       "      <th>Class</th>\n",
       "    </tr>\n",
       "  </thead>\n",
       "  <tbody>\n",
       "    <tr>\n",
       "      <th>count</th>\n",
       "      <td>284807.000000</td>\n",
       "      <td>2.848070e+05</td>\n",
       "      <td>2.848070e+05</td>\n",
       "      <td>2.848070e+05</td>\n",
       "      <td>2.848070e+05</td>\n",
       "      <td>2.848070e+05</td>\n",
       "      <td>2.848070e+05</td>\n",
       "      <td>2.848070e+05</td>\n",
       "      <td>2.848070e+05</td>\n",
       "      <td>2.848070e+05</td>\n",
       "      <td>...</td>\n",
       "      <td>2.848070e+05</td>\n",
       "      <td>2.848070e+05</td>\n",
       "      <td>2.848070e+05</td>\n",
       "      <td>2.848070e+05</td>\n",
       "      <td>2.848070e+05</td>\n",
       "      <td>2.848070e+05</td>\n",
       "      <td>2.848070e+05</td>\n",
       "      <td>2.848070e+05</td>\n",
       "      <td>284807.000000</td>\n",
       "      <td>284807.000000</td>\n",
       "    </tr>\n",
       "    <tr>\n",
       "      <th>mean</th>\n",
       "      <td>94813.859575</td>\n",
       "      <td>3.918649e-15</td>\n",
       "      <td>5.682686e-16</td>\n",
       "      <td>-8.761736e-15</td>\n",
       "      <td>2.811118e-15</td>\n",
       "      <td>-1.552103e-15</td>\n",
       "      <td>2.040130e-15</td>\n",
       "      <td>-1.698953e-15</td>\n",
       "      <td>-1.893285e-16</td>\n",
       "      <td>-3.147640e-15</td>\n",
       "      <td>...</td>\n",
       "      <td>1.473120e-16</td>\n",
       "      <td>8.042109e-16</td>\n",
       "      <td>5.282512e-16</td>\n",
       "      <td>4.456271e-15</td>\n",
       "      <td>1.426896e-15</td>\n",
       "      <td>1.701640e-15</td>\n",
       "      <td>-3.662252e-16</td>\n",
       "      <td>-1.217809e-16</td>\n",
       "      <td>88.349619</td>\n",
       "      <td>0.001727</td>\n",
       "    </tr>\n",
       "    <tr>\n",
       "      <th>std</th>\n",
       "      <td>47488.145955</td>\n",
       "      <td>1.958696e+00</td>\n",
       "      <td>1.651309e+00</td>\n",
       "      <td>1.516255e+00</td>\n",
       "      <td>1.415869e+00</td>\n",
       "      <td>1.380247e+00</td>\n",
       "      <td>1.332271e+00</td>\n",
       "      <td>1.237094e+00</td>\n",
       "      <td>1.194353e+00</td>\n",
       "      <td>1.098632e+00</td>\n",
       "      <td>...</td>\n",
       "      <td>7.345240e-01</td>\n",
       "      <td>7.257016e-01</td>\n",
       "      <td>6.244603e-01</td>\n",
       "      <td>6.056471e-01</td>\n",
       "      <td>5.212781e-01</td>\n",
       "      <td>4.822270e-01</td>\n",
       "      <td>4.036325e-01</td>\n",
       "      <td>3.300833e-01</td>\n",
       "      <td>250.120109</td>\n",
       "      <td>0.041527</td>\n",
       "    </tr>\n",
       "    <tr>\n",
       "      <th>min</th>\n",
       "      <td>0.000000</td>\n",
       "      <td>-5.640751e+01</td>\n",
       "      <td>-7.271573e+01</td>\n",
       "      <td>-4.832559e+01</td>\n",
       "      <td>-5.683171e+00</td>\n",
       "      <td>-1.137433e+02</td>\n",
       "      <td>-2.616051e+01</td>\n",
       "      <td>-4.355724e+01</td>\n",
       "      <td>-7.321672e+01</td>\n",
       "      <td>-1.343407e+01</td>\n",
       "      <td>...</td>\n",
       "      <td>-3.483038e+01</td>\n",
       "      <td>-1.093314e+01</td>\n",
       "      <td>-4.480774e+01</td>\n",
       "      <td>-2.836627e+00</td>\n",
       "      <td>-1.029540e+01</td>\n",
       "      <td>-2.604551e+00</td>\n",
       "      <td>-2.256568e+01</td>\n",
       "      <td>-1.543008e+01</td>\n",
       "      <td>0.000000</td>\n",
       "      <td>0.000000</td>\n",
       "    </tr>\n",
       "    <tr>\n",
       "      <th>25%</th>\n",
       "      <td>54201.500000</td>\n",
       "      <td>-9.203734e-01</td>\n",
       "      <td>-5.985499e-01</td>\n",
       "      <td>-8.903648e-01</td>\n",
       "      <td>-8.486401e-01</td>\n",
       "      <td>-6.915971e-01</td>\n",
       "      <td>-7.682956e-01</td>\n",
       "      <td>-5.540759e-01</td>\n",
       "      <td>-2.086297e-01</td>\n",
       "      <td>-6.430976e-01</td>\n",
       "      <td>...</td>\n",
       "      <td>-2.283949e-01</td>\n",
       "      <td>-5.423504e-01</td>\n",
       "      <td>-1.618463e-01</td>\n",
       "      <td>-3.545861e-01</td>\n",
       "      <td>-3.171451e-01</td>\n",
       "      <td>-3.269839e-01</td>\n",
       "      <td>-7.083953e-02</td>\n",
       "      <td>-5.295979e-02</td>\n",
       "      <td>5.600000</td>\n",
       "      <td>0.000000</td>\n",
       "    </tr>\n",
       "    <tr>\n",
       "      <th>50%</th>\n",
       "      <td>84692.000000</td>\n",
       "      <td>1.810880e-02</td>\n",
       "      <td>6.548556e-02</td>\n",
       "      <td>1.798463e-01</td>\n",
       "      <td>-1.984653e-02</td>\n",
       "      <td>-5.433583e-02</td>\n",
       "      <td>-2.741871e-01</td>\n",
       "      <td>4.010308e-02</td>\n",
       "      <td>2.235804e-02</td>\n",
       "      <td>-5.142873e-02</td>\n",
       "      <td>...</td>\n",
       "      <td>-2.945017e-02</td>\n",
       "      <td>6.781943e-03</td>\n",
       "      <td>-1.119293e-02</td>\n",
       "      <td>4.097606e-02</td>\n",
       "      <td>1.659350e-02</td>\n",
       "      <td>-5.213911e-02</td>\n",
       "      <td>1.342146e-03</td>\n",
       "      <td>1.124383e-02</td>\n",
       "      <td>22.000000</td>\n",
       "      <td>0.000000</td>\n",
       "    </tr>\n",
       "    <tr>\n",
       "      <th>75%</th>\n",
       "      <td>139320.500000</td>\n",
       "      <td>1.315642e+00</td>\n",
       "      <td>8.037239e-01</td>\n",
       "      <td>1.027196e+00</td>\n",
       "      <td>7.433413e-01</td>\n",
       "      <td>6.119264e-01</td>\n",
       "      <td>3.985649e-01</td>\n",
       "      <td>5.704361e-01</td>\n",
       "      <td>3.273459e-01</td>\n",
       "      <td>5.971390e-01</td>\n",
       "      <td>...</td>\n",
       "      <td>1.863772e-01</td>\n",
       "      <td>5.285536e-01</td>\n",
       "      <td>1.476421e-01</td>\n",
       "      <td>4.395266e-01</td>\n",
       "      <td>3.507156e-01</td>\n",
       "      <td>2.409522e-01</td>\n",
       "      <td>9.104512e-02</td>\n",
       "      <td>7.827995e-02</td>\n",
       "      <td>77.165000</td>\n",
       "      <td>0.000000</td>\n",
       "    </tr>\n",
       "    <tr>\n",
       "      <th>max</th>\n",
       "      <td>172792.000000</td>\n",
       "      <td>2.454930e+00</td>\n",
       "      <td>2.205773e+01</td>\n",
       "      <td>9.382558e+00</td>\n",
       "      <td>1.687534e+01</td>\n",
       "      <td>3.480167e+01</td>\n",
       "      <td>7.330163e+01</td>\n",
       "      <td>1.205895e+02</td>\n",
       "      <td>2.000721e+01</td>\n",
       "      <td>1.559499e+01</td>\n",
       "      <td>...</td>\n",
       "      <td>2.720284e+01</td>\n",
       "      <td>1.050309e+01</td>\n",
       "      <td>2.252841e+01</td>\n",
       "      <td>4.584549e+00</td>\n",
       "      <td>7.519589e+00</td>\n",
       "      <td>3.517346e+00</td>\n",
       "      <td>3.161220e+01</td>\n",
       "      <td>3.384781e+01</td>\n",
       "      <td>25691.160000</td>\n",
       "      <td>1.000000</td>\n",
       "    </tr>\n",
       "  </tbody>\n",
       "</table>\n",
       "<p>8 rows × 31 columns</p>\n",
       "</div>"
      ],
      "text/plain": [
       "                Time            V1            V2            V3            V4  \\\n",
       "count  284807.000000  2.848070e+05  2.848070e+05  2.848070e+05  2.848070e+05   \n",
       "mean    94813.859575  3.918649e-15  5.682686e-16 -8.761736e-15  2.811118e-15   \n",
       "std     47488.145955  1.958696e+00  1.651309e+00  1.516255e+00  1.415869e+00   \n",
       "min         0.000000 -5.640751e+01 -7.271573e+01 -4.832559e+01 -5.683171e+00   \n",
       "25%     54201.500000 -9.203734e-01 -5.985499e-01 -8.903648e-01 -8.486401e-01   \n",
       "50%     84692.000000  1.810880e-02  6.548556e-02  1.798463e-01 -1.984653e-02   \n",
       "75%    139320.500000  1.315642e+00  8.037239e-01  1.027196e+00  7.433413e-01   \n",
       "max    172792.000000  2.454930e+00  2.205773e+01  9.382558e+00  1.687534e+01   \n",
       "\n",
       "                 V5            V6            V7            V8            V9  \\\n",
       "count  2.848070e+05  2.848070e+05  2.848070e+05  2.848070e+05  2.848070e+05   \n",
       "mean  -1.552103e-15  2.040130e-15 -1.698953e-15 -1.893285e-16 -3.147640e-15   \n",
       "std    1.380247e+00  1.332271e+00  1.237094e+00  1.194353e+00  1.098632e+00   \n",
       "min   -1.137433e+02 -2.616051e+01 -4.355724e+01 -7.321672e+01 -1.343407e+01   \n",
       "25%   -6.915971e-01 -7.682956e-01 -5.540759e-01 -2.086297e-01 -6.430976e-01   \n",
       "50%   -5.433583e-02 -2.741871e-01  4.010308e-02  2.235804e-02 -5.142873e-02   \n",
       "75%    6.119264e-01  3.985649e-01  5.704361e-01  3.273459e-01  5.971390e-01   \n",
       "max    3.480167e+01  7.330163e+01  1.205895e+02  2.000721e+01  1.559499e+01   \n",
       "\n",
       "       ...           V21           V22           V23           V24  \\\n",
       "count  ...  2.848070e+05  2.848070e+05  2.848070e+05  2.848070e+05   \n",
       "mean   ...  1.473120e-16  8.042109e-16  5.282512e-16  4.456271e-15   \n",
       "std    ...  7.345240e-01  7.257016e-01  6.244603e-01  6.056471e-01   \n",
       "min    ... -3.483038e+01 -1.093314e+01 -4.480774e+01 -2.836627e+00   \n",
       "25%    ... -2.283949e-01 -5.423504e-01 -1.618463e-01 -3.545861e-01   \n",
       "50%    ... -2.945017e-02  6.781943e-03 -1.119293e-02  4.097606e-02   \n",
       "75%    ...  1.863772e-01  5.285536e-01  1.476421e-01  4.395266e-01   \n",
       "max    ...  2.720284e+01  1.050309e+01  2.252841e+01  4.584549e+00   \n",
       "\n",
       "                V25           V26           V27           V28         Amount  \\\n",
       "count  2.848070e+05  2.848070e+05  2.848070e+05  2.848070e+05  284807.000000   \n",
       "mean   1.426896e-15  1.701640e-15 -3.662252e-16 -1.217809e-16      88.349619   \n",
       "std    5.212781e-01  4.822270e-01  4.036325e-01  3.300833e-01     250.120109   \n",
       "min   -1.029540e+01 -2.604551e+00 -2.256568e+01 -1.543008e+01       0.000000   \n",
       "25%   -3.171451e-01 -3.269839e-01 -7.083953e-02 -5.295979e-02       5.600000   \n",
       "50%    1.659350e-02 -5.213911e-02  1.342146e-03  1.124383e-02      22.000000   \n",
       "75%    3.507156e-01  2.409522e-01  9.104512e-02  7.827995e-02      77.165000   \n",
       "max    7.519589e+00  3.517346e+00  3.161220e+01  3.384781e+01   25691.160000   \n",
       "\n",
       "               Class  \n",
       "count  284807.000000  \n",
       "mean        0.001727  \n",
       "std         0.041527  \n",
       "min         0.000000  \n",
       "25%         0.000000  \n",
       "50%         0.000000  \n",
       "75%         0.000000  \n",
       "max         1.000000  \n",
       "\n",
       "[8 rows x 31 columns]"
      ]
     },
     "execution_count": 3,
     "metadata": {},
     "output_type": "execute_result"
    }
   ],
   "source": [
    "df.describe()"
   ]
  },
  {
   "cell_type": "code",
   "execution_count": 4,
   "id": "b941ce47",
   "metadata": {},
   "outputs": [
    {
     "name": "stdout",
     "output_type": "stream",
     "text": [
      "<class 'pandas.core.frame.DataFrame'>\n",
      "RangeIndex: 284807 entries, 0 to 284806\n",
      "Data columns (total 31 columns):\n",
      " #   Column  Non-Null Count   Dtype  \n",
      "---  ------  --------------   -----  \n",
      " 0   Time    284807 non-null  float64\n",
      " 1   V1      284807 non-null  float64\n",
      " 2   V2      284807 non-null  float64\n",
      " 3   V3      284807 non-null  float64\n",
      " 4   V4      284807 non-null  float64\n",
      " 5   V5      284807 non-null  float64\n",
      " 6   V6      284807 non-null  float64\n",
      " 7   V7      284807 non-null  float64\n",
      " 8   V8      284807 non-null  float64\n",
      " 9   V9      284807 non-null  float64\n",
      " 10  V10     284807 non-null  float64\n",
      " 11  V11     284807 non-null  float64\n",
      " 12  V12     284807 non-null  float64\n",
      " 13  V13     284807 non-null  float64\n",
      " 14  V14     284807 non-null  float64\n",
      " 15  V15     284807 non-null  float64\n",
      " 16  V16     284807 non-null  float64\n",
      " 17  V17     284807 non-null  float64\n",
      " 18  V18     284807 non-null  float64\n",
      " 19  V19     284807 non-null  float64\n",
      " 20  V20     284807 non-null  float64\n",
      " 21  V21     284807 non-null  float64\n",
      " 22  V22     284807 non-null  float64\n",
      " 23  V23     284807 non-null  float64\n",
      " 24  V24     284807 non-null  float64\n",
      " 25  V25     284807 non-null  float64\n",
      " 26  V26     284807 non-null  float64\n",
      " 27  V27     284807 non-null  float64\n",
      " 28  V28     284807 non-null  float64\n",
      " 29  Amount  284807 non-null  float64\n",
      " 30  Class   284807 non-null  int64  \n",
      "dtypes: float64(30), int64(1)\n",
      "memory usage: 67.4 MB\n"
     ]
    }
   ],
   "source": [
    "df.info()"
   ]
  },
  {
   "cell_type": "code",
   "execution_count": 5,
   "id": "724b7370",
   "metadata": {},
   "outputs": [
    {
     "name": "stdout",
     "output_type": "stream",
     "text": [
      "categorical features: []\n",
      "continuous features: ['Time', 'V1', 'V2', 'V3', 'V4', 'V5', 'V6', 'V7', 'V8', 'V9', 'V10', 'V11', 'V12', 'V13', 'V14', 'V15', 'V16', 'V17', 'V18', 'V19', 'V20', 'V21', 'V22', 'V23', 'V24', 'V25', 'V26', 'V27', 'V28', 'Amount']\n",
      "features to be checked: ['Class']\n"
     ]
    }
   ],
   "source": [
    "categorical = []\n",
    "continuous = []\n",
    "check = []\n",
    "\n",
    "d_types = dict(df.dtypes)\n",
    "for name,type in d_types.items():\n",
    "    if str(type) == 'object':\n",
    "        categorical.append(name)\n",
    "    elif str(type) == 'float64':\n",
    "        continuous.append(name)\n",
    "    else:\n",
    "        check.append(name)\n",
    "        \n",
    "print(\"categorical features:\",categorical)\n",
    "print(\"continuous features:\",continuous)\n",
    "print(\"features to be checked:\",check)"
   ]
  },
  {
   "cell_type": "code",
   "execution_count": 6,
   "id": "062d4784",
   "metadata": {},
   "outputs": [],
   "source": [
    "d_types = dict(df.dtypes)\n",
    "for name, type in d_types.items():\n",
    "    if str(type) == 'object':\n",
    "        print(f\"<=========={name}==========>\")\n",
    "        print(df[name].value_counts())"
   ]
  },
  {
   "cell_type": "markdown",
   "id": "9a0f0a6b",
   "metadata": {},
   "source": [
    "### 3.Data Preprocessing"
   ]
  },
  {
   "cell_type": "code",
   "execution_count": 7,
   "id": "3ae28e8b",
   "metadata": {},
   "outputs": [
    {
     "data": {
      "text/plain": [
       "Time      0\n",
       "V1        0\n",
       "V2        0\n",
       "V3        0\n",
       "V4        0\n",
       "V5        0\n",
       "V6        0\n",
       "V7        0\n",
       "V8        0\n",
       "V9        0\n",
       "V10       0\n",
       "V11       0\n",
       "V12       0\n",
       "V13       0\n",
       "V14       0\n",
       "V15       0\n",
       "V16       0\n",
       "V17       0\n",
       "V18       0\n",
       "V19       0\n",
       "V20       0\n",
       "V21       0\n",
       "V22       0\n",
       "V23       0\n",
       "V24       0\n",
       "V25       0\n",
       "V26       0\n",
       "V27       0\n",
       "V28       0\n",
       "Amount    0\n",
       "Class     0\n",
       "dtype: int64"
      ]
     },
     "execution_count": 7,
     "metadata": {},
     "output_type": "execute_result"
    }
   ],
   "source": [
    "df.isnull().sum()"
   ]
  },
  {
   "cell_type": "code",
   "execution_count": 8,
   "id": "6ae73c1b",
   "metadata": {},
   "outputs": [
    {
     "data": {
      "text/plain": [
       "1081"
      ]
     },
     "execution_count": 8,
     "metadata": {},
     "output_type": "execute_result"
    }
   ],
   "source": [
    "df.duplicated().sum()"
   ]
  },
  {
   "cell_type": "code",
   "execution_count": 9,
   "id": "a7be5b2f",
   "metadata": {},
   "outputs": [],
   "source": [
    "df.drop_duplicates(inplace=True,ignore_index=True)"
   ]
  },
  {
   "cell_type": "markdown",
   "id": "e914c74c",
   "metadata": {},
   "source": [
    "#### Train-Test-Split"
   ]
  },
  {
   "cell_type": "code",
   "execution_count": 10,
   "id": "128dc4e2",
   "metadata": {},
   "outputs": [],
   "source": [
    "X = df.drop(\"Class\",axis=1)\n",
    "y = df[\"Class\"]"
   ]
  },
  {
   "cell_type": "code",
   "execution_count": 11,
   "id": "eecf9d7a",
   "metadata": {},
   "outputs": [],
   "source": [
    "from sklearn.model_selection import train_test_split\n",
    "X_train,X_test,y_train,y_test = train_test_split(X,y,test_size=0.2,random_state=0)"
   ]
  },
  {
   "cell_type": "markdown",
   "id": "54837e9b",
   "metadata": {},
   "source": [
    "### Model & Evaluation"
   ]
  },
  {
   "cell_type": "markdown",
   "id": "cd6c527c",
   "metadata": {},
   "source": [
    "#### Logistic Regression"
   ]
  },
  {
   "cell_type": "code",
   "execution_count": 12,
   "id": "0cf68d36",
   "metadata": {},
   "outputs": [
    {
     "name": "stdout",
     "output_type": "stream",
     "text": [
      "train accuracy: 0.9989470437924046\n",
      "test accuracy: 0.9988193000387693\n",
      "[0.98220139 0.99962992 0.99913649 0.99924222 0.99864305]\n",
      "0.9957706152034941\n"
     ]
    }
   ],
   "source": [
    "#modeling\n",
    "from sklearn.linear_model import LogisticRegression\n",
    "lr = LogisticRegression()\n",
    "lr.fit(X_train,y_train)\n",
    "\n",
    "#prediction\n",
    "ypred_train = lr.predict(X_train)\n",
    "ypred_test = lr.predict(X_test)\n",
    "\n",
    "#evaluation\n",
    "from sklearn.metrics import accuracy_score\n",
    "print(\"train accuracy:\",accuracy_score(y_train,ypred_train))\n",
    "print(\"test accuracy:\",accuracy_score(y_test,ypred_test))\n",
    "\n",
    "# cross validation\n",
    "from sklearn.model_selection import cross_val_score\n",
    "scores = cross_val_score(lr,X,y,cv=5)\n",
    "print(scores)\n",
    "print(scores.mean())"
   ]
  },
  {
   "cell_type": "markdown",
   "id": "9df8a8f5",
   "metadata": {},
   "source": [
    "#### confusion matrix"
   ]
  },
  {
   "cell_type": "code",
   "execution_count": 13,
   "id": "bbdb2074",
   "metadata": {},
   "outputs": [
    {
     "data": {
      "text/plain": [
       "array([[56630,    29],\n",
       "       [   38,    49]], dtype=int64)"
      ]
     },
     "execution_count": 13,
     "metadata": {},
     "output_type": "execute_result"
    }
   ],
   "source": [
    "from sklearn.metrics import confusion_matrix\n",
    "confusion_matrix(y_test,ypred_test)"
   ]
  },
  {
   "cell_type": "markdown",
   "id": "3a0701bb",
   "metadata": {},
   "source": [
    "### AUC"
   ]
  },
  {
   "cell_type": "code",
   "execution_count": 14,
   "id": "e9ccdf52",
   "metadata": {},
   "outputs": [
    {
     "data": {
      "image/png": "[encoded data removed]",
      "text/plain": [
       "<Figure size 432x288 with 1 Axes>"
      ]
     },
     "metadata": {
      "needs_background": "light"
     },
     "output_type": "display_data"
    }
   ],
   "source": [
    "from sklearn.metrics import plot_roc_curve\n",
    "plot_roc_curve(lr,X_test,y_test)\n",
    "plt.show()"
   ]
  },
  {
   "cell_type": "markdown",
   "id": "b719d30c",
   "metadata": {},
   "source": [
    "### KNN"
   ]
  },
  {
   "cell_type": "markdown",
   "id": "961e54a0",
   "metadata": {},
   "source": [
    "#### Feature scaling"
   ]
  },
  {
   "cell_type": "code",
   "execution_count": 15,
   "id": "b00e42b6",
   "metadata": {},
   "outputs": [],
   "source": [
    "from sklearn.preprocessing import StandardScaler\n",
    "scaler = StandardScaler()\n",
    "\n",
    "X_train = scaler.fit_transform(X_train)\n",
    "X_test = scaler.fit_transform(X_test)"
   ]
  },
  {
   "cell_type": "code",
   "execution_count": null,
   "id": "796f7c8a",
   "metadata": {},
   "outputs": [
    {
     "name": "stdout",
     "output_type": "stream",
     "text": [
      "train accuracy: 0.999563838223632\n",
      "test accuracy: 0.9994713283755683\n"
     ]
    }
   ],
   "source": [
    "#modeling\n",
    "from sklearn.neighbors import KNeighborsClassifier\n",
    "knn = KNeighborsClassifier()\n",
    "knn.fit(X_train,y_train)\n",
    "\n",
    "#prediction\n",
    "ypred_train = knn.predict(X_train)\n",
    "ypred_test = knn.predict(X_test)\n",
    "\n",
    "#evaluation\n",
    "from sklearn.metrics import accuracy_score\n",
    "print(\"train accuracy:\",accuracy_score(y_train,ypred_train))\n",
    "print(\"test accuracy:\",accuracy_score(y_test,ypred_test))\n",
    "\n",
    "# cross validation\n",
    "from sklearn.model_selection import cross_val_score\n",
    "scores = cross_val_score(knn,X,y,cv=5)\n",
    "print(scores)\n",
    "scores.mean()"
   ]
  },
  {
   "cell_type": "markdown",
   "id": "9b7b7954",
   "metadata": {},
   "source": [
    "#### confusion matrix"
   ]
  },
  {
   "cell_type": "code",
   "execution_count": null,
   "id": "aa934742",
   "metadata": {},
   "outputs": [],
   "source": [
    "from sklearn.metrics import confusion_matrix\n",
    "confusion_matrix(y_test,ypred_test)"
   ]
  },
  {
   "cell_type": "markdown",
   "id": "4fb0f001",
   "metadata": {},
   "source": [
    "#### Hyperparameter tuning"
   ]
  },
  {
   "cell_type": "code",
   "execution_count": null,
   "id": "24429c1f",
   "metadata": {},
   "outputs": [],
   "source": [
    "from sklearn.model_selection import GridSearchCV\n",
    "\n",
    "estimator = KNeighborsClassifier()\n",
    "param_grid = {'n_neighbors':list(range(1,10)),'p':[1,2]}\n",
    "\n",
    "cv_classifier = GridSearchCV(estimator,param_grid,cv=5,scoring='accuracy')\n",
    "cv_classifier.fit(X_train,y_train)\n",
    "cv_classifier.best_params_"
   ]
  },
  {
   "cell_type": "code",
   "execution_count": null,
   "id": "c172b042",
   "metadata": {},
   "outputs": [],
   "source": [
    "#modeling\n",
    "from sklearn.neighbors import KNeighborsClassifier\n",
    "knn_bhp = KNeighborsClassifier(n_neighbors=1,p=1)\n",
    "knn_bhp.fit(X_train,y_train)\n",
    "\n",
    "#prediction\n",
    "ypred_train = knn_bhp.predict(X_train)\n",
    "ypred_test = knn_bhp.predict(X_test)\n",
    "\n",
    "#evaluation\n",
    "from sklearn.metrics import accuracy_score\n",
    "print(\"train accuracy:\",accuracy_score(y_train,ypred_train))\n",
    "print(\"test accuracy:\",accuracy_score(y_test,ypred_test))\n",
    "\n",
    "# cross validation\n",
    "from sklearn.model_selection import cross_val_score\n",
    "scores = cross_val_score(knn_bhp,X,y,cv=5)\n",
    "print(\"cross validation score:\",scores.mean())"
   ]
  },
  {
   "cell_type": "markdown",
   "id": "bd1eab8e",
   "metadata": {},
   "source": [
    "## DT"
   ]
  },
  {
   "cell_type": "code",
   "execution_count": null,
   "id": "8776ea6d",
   "metadata": {},
   "outputs": [],
   "source": [
    "# decision tree classifier - with default hyperparameters\n",
    "from sklearn.tree import DecisionTreeClassifier\n",
    "dt = DecisionTreeClassifier()\n",
    "dt.fit(X_train,y_train)\n",
    "\n",
    "# Prediction\n",
    "pred_train = dt.predict(X_train)\n",
    "base_pred = dt.predict(X_test)\n",
    "\n",
    "# Evaluation\n",
    "\n",
    "# 1.train & test acuuracy\n",
    "from sklearn.metrics import accuracy_score\n",
    "print(\"train accyracy:\",accuracy_score(pred_train,y_train))\n",
    "print(\"test accyracy:\",accuracy_score(base_pred,y_test))\n",
    "\n",
    "# 2.cross validation score\n",
    "from sklearn.model_selection import cross_val_score\n",
    "scores = cross_val_score(dt,X,y,cv=5)\n",
    "print(\"cross validation score:\",scores.mean())"
   ]
  },
  {
   "cell_type": "code",
   "execution_count": null,
   "id": "21d9628b",
   "metadata": {},
   "outputs": [],
   "source": [
    "from sklearn.metrics import confusion_matrix\n",
    "confusion_matrix(y_test,base_pred)"
   ]
  },
  {
   "cell_type": "code",
   "execution_count": null,
   "id": "fb95b62c",
   "metadata": {},
   "outputs": [],
   "source": [
    "from sklearn.tree import plot_tree\n",
    "plt.figure(figsize=(14,8),dpi=100)\n",
    "plot_tree(dt,filled=True,feature_names=X.columns)\n",
    "plt.show()"
   ]
  },
  {
   "cell_type": "code",
   "execution_count": null,
   "id": "c8cce8fe",
   "metadata": {},
   "outputs": [],
   "source": [
    "dt.feature_importances_"
   ]
  },
  {
   "cell_type": "markdown",
   "id": "f68d30d0",
   "metadata": {},
   "source": [
    "#### Hyperparameter tuning"
   ]
  },
  {
   "cell_type": "code",
   "execution_count": null,
   "id": "b66adb43",
   "metadata": {},
   "outputs": [],
   "source": [
    "from sklearn.model_selection import GridSearchCV\n",
    "\n",
    "#model\n",
    "estimator = DecisionTreeClassifier(random_state=0)\n",
    "\n",
    "#parameters(which you want to tune and identify the best)\n",
    "param_grid = {\"criterion\":[\"gini\",\"entropy\"],\n",
    "              \"max_depth\":[1,2,3,4]}\n",
    "grid = GridSearchCV(estimator,param_grid,scoring=\"accuracy\",cv=5)\n",
    "\n",
    "grid.fit(X_train,y_train)\n",
    "\n",
    "grid.best_params_"
   ]
  },
  {
   "cell_type": "code",
   "execution_count": null,
   "id": "f959f230",
   "metadata": {},
   "outputs": [],
   "source": [
    "# decision tree classifier - with default hyperparameters\n",
    "from sklearn.tree import DecisionTreeClassifier\n",
    "dt_bhp = DecisionTreeClassifier(criterion='gini',max_depth=1)\n",
    "dt_bhp.fit(X_train,y_train)\n",
    "\n",
    "# Prediction\n",
    "pred_train = dt_bhp.predict(X_train)\n",
    "base_pred = dt_bhp.predict(X_test)\n",
    "\n",
    "# Evaluation\n",
    "\n",
    "# 1.train & test acuuracy\n",
    "from sklearn.metrics import accuracy_score\n",
    "print(\"train accyracy:\",accuracy_score(pred_train,y_train))\n",
    "print(\"test accyracy:\",accuracy_score(base_pred,y_test))\n",
    "\n",
    "# 2.cross validation score\n",
    "from sklearn.model_selection import cross_val_score\n",
    "scores = cross_val_score(dt_bhp,X,y,cv=5)\n",
    "print(\"cross validation score:\",scores.mean())"
   ]
  },
  {
   "cell_type": "code",
   "execution_count": null,
   "id": "70be74e1",
   "metadata": {},
   "outputs": [],
   "source": [
    "def report_model(model):\n",
    "    model.fit(X_train,y_train)\n",
    "    model_preds = model.predict(X_test)\n",
    "    pred_train = model.predict(X_train)\n",
    "    print(\"train accyracy:\",accuracy_score(pred_train,y_train))\n",
    "    print(\"test accyracy:\",accuracy_score(model_preds,y_test))\n",
    "    plt.figure(figsize=(12,8),dpi=150)\n",
    "    plot_tree(model,filled=True,feature_names=X.columns)"
   ]
  },
  {
   "cell_type": "markdown",
   "id": "9187d6da",
   "metadata": {},
   "source": [
    "#### Pruning"
   ]
  },
  {
   "cell_type": "code",
   "execution_count": null,
   "id": "5eefacc6",
   "metadata": {},
   "outputs": [],
   "source": [
    "pruned_tree = DecisionTreeClassifier(max_depth=3)\n",
    "report_model(pruned_tree)"
   ]
  },
  {
   "cell_type": "code",
   "execution_count": null,
   "id": "c9a186cb",
   "metadata": {},
   "outputs": [],
   "source": [
    "pruned_tree = DecisionTreeClassifier(max_leaf_nodes = 3)\n",
    "report_model(pruned_tree)"
   ]
  },
  {
   "cell_type": "markdown",
   "id": "37dabf2e",
   "metadata": {},
   "source": [
    "## Rando Forest"
   ]
  },
  {
   "cell_type": "code",
   "execution_count": null,
   "id": "f83fcf0d",
   "metadata": {},
   "outputs": [],
   "source": [
    "# RandomForestClassifier - with default hyperparameters\n",
    "from sklearn.ensemble import RandomForestClassifier\n",
    "rf = RandomForestClassifier()\n",
    "rf.fit(X_train,y_train)\n",
    "\n",
    "# Prediction\n",
    "pred_train = rf.predict(X_train)\n",
    "base_pred = rf.predict(X_test)\n",
    "\n",
    "# Evaluation\n",
    "\n",
    "# 1.train & test acuuracy\n",
    "from sklearn.metrics import accuracy_score\n",
    "print(\"train accyracy:\",accuracy_score(pred_train,y_train))\n",
    "print(\"test accyracy:\",accuracy_score(base_pred,y_test))\n",
    "\n",
    "# 2.cross validation score\n",
    "from sklearn.model_selection import cross_val_score\n",
    "scores = cross_val_score(rf,X,y,cv=5)\n",
    "print(\"cross validation score:\",scores.mean())"
   ]
  },
  {
   "cell_type": "code",
   "execution_count": null,
   "id": "30461718",
   "metadata": {},
   "outputs": [],
   "source": [
    "confusion_matrix(y_test,base_pred)"
   ]
  },
  {
   "cell_type": "code",
   "execution_count": null,
   "id": "39b2ea9b",
   "metadata": {},
   "outputs": [],
   "source": [
    "rf.feature_importances_"
   ]
  },
  {
   "cell_type": "markdown",
   "id": "dbfbb439",
   "metadata": {},
   "source": [
    "#### Hyperparameter tuning"
   ]
  },
  {
   "cell_type": "code",
   "execution_count": null,
   "id": "d59c81e7",
   "metadata": {},
   "outputs": [],
   "source": [
    "from sklearn.model_selection import GridSearchCV\n",
    "\n",
    "#model\n",
    "estimator = RandomForestClassifier(random_state=0)\n",
    "\n",
    "#parameters(which you want to tune and identify the best)\n",
    "param_grid = {'n_estimators':list(range(1,10))}\n",
    "grid = GridSearchCV(estimator,param_grid,scoring=\"accuracy\",cv=5)\n",
    "\n",
    "grid.fit(X_train,y_train)\n",
    "\n",
    "grid.best_params_"
   ]
  },
  {
   "cell_type": "code",
   "execution_count": null,
   "id": "757521fd",
   "metadata": {},
   "outputs": [],
   "source": [
    "# RandomForestClassifier - with hyper hyperparameter tuning\n",
    "from sklearn.ensemble import RandomForestClassifier\n",
    "rf_bhp = RandomForestClassifier(n_estimators=1)\n",
    "rf_bhp.fit(X_train,y_train)\n",
    "\n",
    "# Prediction\n",
    "pred_train = rf_bhp.predict(X_train)\n",
    "base_pred = rf_bhp.predict(X_test)\n",
    "\n",
    "# Evaluation\n",
    "\n",
    "# 1.train & test acuuracy\n",
    "from sklearn.metrics import accuracy_score\n",
    "print(\"train accyracy:\",accuracy_score(pred_train,y_train))\n",
    "print(\"test accyracy:\",accuracy_score(base_pred,y_test))\n",
    "\n",
    "# 2.cross validation score\n",
    "from sklearn.model_selection import cross_val_score\n",
    "scores = cross_val_score(rf_bhp,X,y,cv=5)\n",
    "print(\"cross validation score:\",scores.mean())"
   ]
  },
  {
   "cell_type": "markdown",
   "id": "6ed338d1",
   "metadata": {},
   "source": [
    "### Ada boost"
   ]
  },
  {
   "cell_type": "code",
   "execution_count": null,
   "id": "4afe585a",
   "metadata": {},
   "outputs": [],
   "source": [
    "# AdaBoost classifier with default parameters\n",
    "from sklearn.ensemble import AdaBoostClassifier\n",
    "Ad_default = AdaBoostClassifier()\n",
    "Ad_default.fit(X_train,y_train)\n",
    "\n",
    "# Prediction\n",
    "pred_train = Ad_default.predict(X_train)\n",
    "base_pred = Ad_default.predict(X_test)\n",
    "\n",
    "# Evaluation\n",
    "\n",
    "# 1.train & test acuuracy\n",
    "from sklearn.metrics import accuracy_score\n",
    "print(\"train accyracy:\",accuracy_score(pred_train,y_train))\n",
    "print(\"test accyracy:\",accuracy_score(base_pred,y_test))\n",
    "\n",
    "# 2.cross validation score\n",
    "from sklearn.model_selection import cross_val_score\n",
    "scores = cross_val_score(Ad_default,X,y,cv=5)\n",
    "print(\"cross validation score:\",scores.mean())"
   ]
  },
  {
   "cell_type": "code",
   "execution_count": null,
   "id": "f9eaf4e9",
   "metadata": {},
   "outputs": [],
   "source": [
    "Ad_default.feature_importances_"
   ]
  },
  {
   "cell_type": "code",
   "execution_count": null,
   "id": "184be015",
   "metadata": {},
   "outputs": [],
   "source": [
    "confusion_matrix(y_test,base_pred)"
   ]
  },
  {
   "cell_type": "code",
   "execution_count": null,
   "id": "dbfb2a45",
   "metadata": {},
   "outputs": [],
   "source": [
    "grid.best_estimator_"
   ]
  },
  {
   "cell_type": "code",
   "execution_count": null,
   "id": "b3da526a",
   "metadata": {},
   "outputs": [],
   "source": [
    "grid.best_estimator_.feature_importances_"
   ]
  },
  {
   "cell_type": "code",
   "execution_count": null,
   "id": "39ff01c5",
   "metadata": {},
   "outputs": [],
   "source": [
    "feats = pd.DataFrame(data=grid.best_estimator_.feature_importances_,\n",
    "                     index=X.columns,\n",
    "                     columns=['Importance'])\n",
    "important_features = feats[feats['Importance']>0.1]\n",
    "important_features"
   ]
  },
  {
   "cell_type": "code",
   "execution_count": null,
   "id": "55a28117",
   "metadata": {},
   "outputs": [],
   "source": [
    "imp_features_list=feats[feats['Importance']>0.1].index.to_list()\n",
    "imp_features_list"
   ]
  },
  {
   "cell_type": "markdown",
   "id": "edc05fa8",
   "metadata": {},
   "source": [
    "#### Hyperparameter tuning"
   ]
  },
  {
   "cell_type": "code",
   "execution_count": null,
   "id": "daf025d7",
   "metadata": {},
   "outputs": [],
   "source": [
    "from sklearn.model_selection import GridSearchCV\n",
    "\n",
    "#model\n",
    "estimator = AdaBoostClassifier(random_state=0)\n",
    "\n",
    "#parameters(which you want to tune and identify the best)\n",
    "param_grid = {'n_estimators':list(range(1,30))}\n",
    "grid = GridSearchCV(estimator,param_grid,scoring=\"accuracy\",cv=5)\n",
    "\n",
    "grid.fit(X_train,y_train)\n",
    "\n",
    "grid.best_params_"
   ]
  },
  {
   "cell_type": "code",
   "execution_count": null,
   "id": "8ace3585",
   "metadata": {},
   "outputs": [],
   "source": [
    "X_imp = X[imp_features_list]  #dropped unimportant\n",
    "y = df['Outcomes']\n",
    "\n",
    "\n",
    "Ada_bhp = AdaBoostClassifier(n_estimators=25)\n",
    "Ada_bhp.fit(X_train,y_train)\n",
    "\n",
    "# Prediction\n",
    "pred_train = Ada_bhp.predict(X_train)\n",
    "base_pred = Ada_bhp.predict(X_test)\n",
    "\n",
    "# Evaluation\n",
    "\n",
    "# 1.train & test acuuracy\n",
    "from sklearn.metrics import accuracy_score\n",
    "print(\"train accyracy:\",accuracy_score(pred_train,y_train))\n",
    "print(\"test accyracy:\",accuracy_score(base_pred,y_test))\n",
    "\n",
    "# 2.cross validation score\n",
    "from sklearn.model_selection import cross_val_score\n",
    "scores = cross_val_score(Ada_bhp,X,y,cv=5)\n",
    "print(\"cross validation score:\",scores.mean())"
   ]
  },
  {
   "cell_type": "markdown",
   "id": "6cad6662",
   "metadata": {},
   "source": [
    "## Gradient boosting"
   ]
  },
  {
   "cell_type": "code",
   "execution_count": null,
   "id": "f98c3fc5",
   "metadata": {},
   "outputs": [],
   "source": [
    "# gradient boosting classifier with default parameters\n",
    "from sklearn.ensemble import GradientBoostingClassifier\n",
    "gb_default = GradientBoostingClassifier()\n",
    "gb_default.fit(X_train,y_train)\n",
    "\n",
    "\n",
    "# Prediction\n",
    "pred_train = gb_default.predict(X_train)\n",
    "pred_test = gb_default.predict(X_test)\n",
    "\n",
    "# Evaluation\n",
    "\n",
    "# 1.train & test acuuracy\n",
    "from sklearn.metrics import accuracy_score\n",
    "print(\"train accyracy:\",accuracy_score(pred_train,y_train))\n",
    "print(\"test accyracy:\",accuracy_score(pred_test,y_test))\n",
    "\n",
    "# 2.cross validation score\n",
    "from sklearn.model_selection import cross_val_score\n",
    "scores = cross_val_score(gb_default,X,y,cv=5)\n",
    "print(\"cross validation score:\",scores.mean())"
   ]
  },
  {
   "cell_type": "markdown",
   "id": "bdaab235",
   "metadata": {},
   "source": [
    "#### Hyperparameter tuning"
   ]
  },
  {
   "cell_type": "code",
   "execution_count": null,
   "id": "b40c25a0",
   "metadata": {},
   "outputs": [],
   "source": [
    "from sklearn.model_selection import GridSearchCV\n",
    "\n",
    "#model\n",
    "estimator = GradientBoostingClassifier(random_state=0)\n",
    "\n",
    "#parameters(which you want to tune and identify the best)\n",
    "param_grid = {'n_estimators':list(range(1,25))}\n",
    "grid = GridSearchCV(estimator,param_grid,scoring=\"accuracy\",cv=5)\n",
    "\n",
    "grid.fit(X_train,y_train)\n",
    "\n",
    "grid.best_params_"
   ]
  },
  {
   "cell_type": "code",
   "execution_count": null,
   "id": "1efc84d5",
   "metadata": {},
   "outputs": [],
   "source": [
    "\n",
    "gb_default = GradientBoostingClassifier(n_estimators=3)\n",
    "gb_default.fit(X_train,y_train)\n",
    "\n",
    "\n",
    "# Prediction\n",
    "pred_train = gb_default.predict(X_train)\n",
    "base_pred = gb_default.predict(X_test)\n",
    "\n",
    "# Evaluation\n",
    "\n",
    "# 1.train & test acuuracy\n",
    "from sklearn.metrics import accuracy_score\n",
    "print(\"train accyracy:\",accuracy_score(pred_train,y_train))\n",
    "print(\"test accyracy:\",accuracy_score(base_pred,y_test))\n",
    "\n",
    "# 2.cross validation score\n",
    "from sklearn.model_selection import cross_val_score\n",
    "scores = cross_val_score(gb_default,X,y,cv=5)\n",
    "print(\"cross validation score:\",scores.mean())"
   ]
  },
  {
   "cell_type": "markdown",
   "id": "5f226cd3",
   "metadata": {},
   "source": [
    "## XG Boost"
   ]
  },
  {
   "cell_type": "code",
   "execution_count": null,
   "id": "47ac3272",
   "metadata": {},
   "outputs": [],
   "source": [
    "# XG Boost classifier with default parameters\n",
    "from xgboost import XGBClassifier\n",
    "xgb = XGBClassifier()\n",
    "xgb.fit(X_train,y_train)\n",
    "\n",
    "# Prediction\n",
    "pred_train = xgb.predict(X_train)\n",
    "base_pred = xgb.predict(X_test)\n",
    "\n",
    "# Evaluation\n",
    "\n",
    "# 1.train & test acuuracy\n",
    "from sklearn.metrics import accuracy_score\n",
    "print(\"train accyracy:\",accuracy_score(pred_train,y_train))\n",
    "print(\"test accyracy:\",accuracy_score(base_pred,y_test))\n",
    "\n",
    "# 2.cross validation score\n",
    "from sklearn.model_selection import cross_val_score\n",
    "scores = cross_val_score(xgb,X,y,cv=5)\n",
    "print(\"cross validation score:\",scores.mean())\n",
    "    "
   ]
  },
  {
   "cell_type": "code",
   "execution_count": null,
   "id": "36a8578d",
   "metadata": {},
   "outputs": [],
   "source": [
    "confusion_matrix(y_test,base_pred)"
   ]
  },
  {
   "cell_type": "code",
   "execution_count": null,
   "id": "3fdd5fc5",
   "metadata": {},
   "outputs": [],
   "source": [
    "feats = pd.DataFrame(data=grid.best_estimator_.feature_importances_,\n",
    "                     index=X.columns,\n",
    "                     columns=['Importance'])\n",
    "important_features = feats[feats['Importance']>0.01]\n",
    "important_features"
   ]
  },
  {
   "cell_type": "markdown",
   "id": "f7f394f6",
   "metadata": {},
   "source": [
    "#### Hyperparameter tuning"
   ]
  },
  {
   "cell_type": "code",
   "execution_count": null,
   "id": "9bac1095",
   "metadata": {},
   "outputs": [],
   "source": [
    "from sklearn.model_selection import GridSearchCV\n",
    "\n",
    "#model\n",
    "estimator = XGBClassifier()\n",
    "\n",
    "#parameters(which you want to tune and identify the best)\n",
    "param_grid = {'n_estimators':list(range(1,10)),\n",
    "              'max_depth':list(range(1,10)),\n",
    "              'gamma':list(range(0,1))}\n",
    "grid = GridSearchCV(estimator,param_grid,scoring=\"accuracy\",cv=5)\n",
    "\n",
    "grid.fit(X_train,y_train)\n",
    "\n",
    "grid.best_params_"
   ]
  },
  {
   "cell_type": "code",
   "execution_count": null,
   "id": "fe7dfcb8",
   "metadata": {},
   "outputs": [],
   "source": [
    "X_imp = X[imp_features_list]  #dropped unimportant\n",
    "y = df['Outcomes']\n",
    "\n",
    "xgb_bhp = GradientBoostingClassifier()\n",
    "xgb_bhp.fit(X_train,y_train)\n",
    "\n",
    "\n",
    "# Prediction\n",
    "pred_train = xgb_bhp.predict(X_train)\n",
    "base_pred = xgb_bhp.predict(X_test)\n",
    "\n",
    "# Evaluation\n",
    "\n",
    "# 1.train & test acuuracy\n",
    "from sklearn.metrics import accuracy_score\n",
    "print(\"train accyracy:\",accuracy_score(pred_train,y_train))\n",
    "print(\"test accyracy:\",accuracy_score(base_pred,y_test))\n",
    "\n",
    "# 2.cross validation score\n",
    "from sklearn.model_selection import cross_val_score\n",
    "scores = cross_val_score(xgb_bhp,X,y,cv=5)\n",
    "print(\"cross validation score:\",scores.mean())"
   ]
  },
  {
   "cell_type": "markdown",
   "id": "2de9c372",
   "metadata": {},
   "source": [
    "### SVM"
   ]
  },
  {
   "cell_type": "code",
   "execution_count": null,
   "id": "8de8421c",
   "metadata": {},
   "outputs": [],
   "source": [
    "#modeling\n",
    "from sklearn.svm import SVC\n",
    "svm = SVC()\n",
    "svm.fit(X_train,y_train)\n",
    "\n",
    "#prediction\n",
    "ypred_train = svm.predict(X_train)\n",
    "ypred_test = svm.predict(X_test)\n",
    "\n",
    "#evaluation\n",
    "from sklearn.metrics import accuracy_score\n",
    "print(\"train accuracy:\",accuracy_score(y_train,ypred_train))\n",
    "print(\"test accuracy:\",accuracy_score(y_test,ypred_test))\n",
    "\n",
    "# cross validation\n",
    "from sklearn.model_selection import cross_val_score\n",
    "scores = cross_val_score(svm,X,y,cv=5)\n",
    "print(scores)\n",
    "print(\"cross validation:\",scores.mean())"
   ]
  },
  {
   "cell_type": "markdown",
   "id": "51a37d17",
   "metadata": {},
   "source": [
    "#### Hyperparameter tuning"
   ]
  },
  {
   "cell_type": "code",
   "execution_count": null,
   "id": "5b19c33d",
   "metadata": {},
   "outputs": [],
   "source": [
    "from sklearn.model_selection import GridSearchCV\n",
    "\n",
    "estimator = SVC()\n",
    "\n",
    "param_grid = {'kernel':['linear','rbf','sigmoid','poly']}\n",
    "\n",
    "grid = GridSearchCV(estimator,param_grid,cv=5)\n",
    "grid.fit(X,y)\n",
    "grid.best_params_"
   ]
  },
  {
   "cell_type": "code",
   "execution_count": null,
   "id": "4e909955",
   "metadata": {},
   "outputs": [],
   "source": [
    "#modeling\n",
    "from sklearn.svm import SVC\n",
    "svm_bhp = SVC(kernel='linear')\n",
    "svm_bhp.fit(X_train,y_train)\n",
    "\n",
    "#prediction\n",
    "ypred_train = svm_bhp.predict(X_train)\n",
    "ypred_test = svm_bhp.predict(X_test)\n",
    "\n",
    "#evaluation\n",
    "from sklearn.metrics import accuracy_score\n",
    "print(\"train accuracy:\",accuracy_score(y_train,ypred_train))\n",
    "print(\"test accuracy:\",accuracy_score(y_test,ypred_test))\n",
    "\n",
    "# cross validation\n",
    "from sklearn.model_selection import cross_val_score\n",
    "scores = cross_val_score(svm_bhp,X,y,cv=5)\n",
    "print(scores)\n",
    "print(\"cross validation:\",scores.mean())"
   ]
  },
  {
   "cell_type": "code",
   "execution_count": null,
   "id": "0a70f2d0",
   "metadata": {},
   "outputs": [],
   "source": []
  }
 ],
 "metadata": {
  "kernelspec": {
   "display_name": "Python 3",
   "language": "python",
   "name": "python3"
  },
  "language_info": {
   "codemirror_mode": {
    "name": "ipython",
    "version": 3
   },
   "file_extension": ".py",
   "mimetype": "text/x-python",
   "name": "python",
   "nbconvert_exporter": "python",
   "pygments_lexer": "ipython3",
   "version": "3.8.8"
  }
 },
 "nbformat": 4,
 "nbformat_minor": 5
}
